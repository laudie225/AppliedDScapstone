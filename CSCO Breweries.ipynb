{
 "cells": [
  {
   "cell_type": "markdown",
   "metadata": {},
   "source": [
    "# Breweries By Zip Code In Colorado Springs, CO"
   ]
  },
  {
   "cell_type": "markdown",
   "metadata": {},
   "source": [
    "1. Introduction/Business Problem\n",
    "\n",
    "Craft beer is very popular in Colorado and more breweries are looking for places to expand. Colorado Springs is the second larges metro area in Colorado with a growing population. A brewer from Denver would like to open a second location and thinks Colorado Springs is an up an coming location. What brewers have found is that they are more successfull if there is more than one brewery nearby. However, if there are too many breweries in one area they can oversaturate the market.\n",
    "\n",
    "Prospective brewers and restaurantuers would like to see where breweries exist and their average rating to help decide where to open their next location.\n",
    "\n",
    "2. Data Sources\n",
    "\n",
    "In addition to the Four Square Data for Colorado Springs existing breweries, I will scrape the following website for zip code data to Colorado Springs.\n",
    "\n",
    "https://www.city-data.com/zipmaps/Colorado-Springs-Colorado.html\n",
    "\n",
    "Overlaying the ratings and number of existing breweries on a map will help prospective breweres decide where they might open their next location and if they have an opportunity to get a higher rating.\n"
   ]
  }
 ],
 "metadata": {
  "kernelspec": {
   "display_name": "Python 3",
   "language": "python",
   "name": "python3"
  },
  "language_info": {
   "codemirror_mode": {
    "name": "ipython",
    "version": 3
   },
   "file_extension": ".py",
   "mimetype": "text/x-python",
   "name": "python",
   "nbconvert_exporter": "python",
   "pygments_lexer": "ipython3",
   "version": "3.7.4"
  }
 },
 "nbformat": 4,
 "nbformat_minor": 2
}
